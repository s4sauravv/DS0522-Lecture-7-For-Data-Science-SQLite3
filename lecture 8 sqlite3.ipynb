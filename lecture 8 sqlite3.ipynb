{
 "cells": [
  {
   "cell_type": "code",
   "execution_count": 1,
   "id": "99e5e813",
   "metadata": {},
   "outputs": [],
   "source": [
    "# 8th Lecture\n",
    "# 3 july 2022\n"
   ]
  },
  {
   "cell_type": "code",
   "execution_count": 2,
   "id": "950043ae",
   "metadata": {},
   "outputs": [],
   "source": [
    "#SQL - Structured Querry Langauage\n",
    "#SQLite 3 \n",
    "#When we use sqlite 3 in jupyter notebook we have to import sqlite 3"
   ]
  },
  {
   "cell_type": "code",
   "execution_count": 3,
   "id": "14ca84f2",
   "metadata": {},
   "outputs": [],
   "source": [
    "import sqlite3"
   ]
  },
  {
   "cell_type": "code",
   "execution_count": 4,
   "id": "2301e522",
   "metadata": {},
   "outputs": [],
   "source": [
    "#Connecting with the database (if there is no database exists.  it will create one)"
   ]
  },
  {
   "cell_type": "code",
   "execution_count": 34,
   "id": "0204df20",
   "metadata": {},
   "outputs": [],
   "source": [
    "db=sqlite3.connect(\"student_info1.db\")"
   ]
  },
  {
   "cell_type": "code",
   "execution_count": 10,
   "id": "5da3a08c",
   "metadata": {},
   "outputs": [],
   "source": [
    "#Declare cursor"
   ]
  },
  {
   "cell_type": "code",
   "execution_count": 11,
   "id": "5049cb87",
   "metadata": {},
   "outputs": [],
   "source": [
    "cursor=db.cursor()"
   ]
  },
  {
   "cell_type": "code",
   "execution_count": 8,
   "id": "688a07f7",
   "metadata": {},
   "outputs": [],
   "source": [
    "#Create table"
   ]
  },
  {
   "cell_type": "code",
   "execution_count": 35,
   "id": "344de49b",
   "metadata": {},
   "outputs": [
    {
     "data": {
      "text/plain": [
       "<sqlite3.Cursor at 0x20b0b0a2110>"
      ]
     },
     "execution_count": 35,
     "metadata": {},
     "output_type": "execute_result"
    }
   ],
   "source": [
    "cursor.execute(\"CREATE TABLE student_info1(phone_num INT ,email_id TEXT,course_name TEXT,fee_paid INT)\")"
   ]
  },
  {
   "cell_type": "code",
   "execution_count": 13,
   "id": "da99c19e",
   "metadata": {},
   "outputs": [],
   "source": [
    "#Insert record into the table (single record inserting)"
   ]
  },
  {
   "cell_type": "code",
   "execution_count": 37,
   "id": "63b04932",
   "metadata": {},
   "outputs": [
    {
     "data": {
      "text/plain": [
       "<sqlite3.Cursor at 0x20b0b0a2110>"
      ]
     },
     "execution_count": 37,
     "metadata": {},
     "output_type": "execute_result"
    }
   ],
   "source": [
    "cursor.execute(\"INSERT INTO student_info1(phone_num,email_id,course_name,fee_paid)values(1234567890,'saurav.vicky16@gmail.com','Data Science',25000)\")"
   ]
  },
  {
   "cell_type": "code",
   "execution_count": 16,
   "id": "0df6a2f6",
   "metadata": {},
   "outputs": [],
   "source": [
    "#Save The record permanently .If you dont commit ,next time you will not see the record in the table."
   ]
  },
  {
   "cell_type": "code",
   "execution_count": 38,
   "id": "d3e866aa",
   "metadata": {},
   "outputs": [],
   "source": [
    "db.commit()"
   ]
  },
  {
   "cell_type": "code",
   "execution_count": 18,
   "id": "47511456",
   "metadata": {},
   "outputs": [],
   "source": [
    "#count of records inserted  "
   ]
  },
  {
   "cell_type": "code",
   "execution_count": 39,
   "id": "64feec76",
   "metadata": {},
   "outputs": [
    {
     "name": "stdout",
     "output_type": "stream",
     "text": [
      "1 Record(s) inserted\n"
     ]
    }
   ],
   "source": [
    "print(cursor.rowcount,\"Record(s) inserted\")"
   ]
  },
  {
   "cell_type": "code",
   "execution_count": 20,
   "id": "98385cb7",
   "metadata": {},
   "outputs": [],
   "source": [
    "#Select query-How to fetch records the table\n",
    "#to get columns names\n",
    "#col_name=[]\n",
    "#for col in cursor .description\n",
    "#col_name.append(col[0])\n",
    "#print(col_name)"
   ]
  },
  {
   "cell_type": "code",
   "execution_count": 40,
   "id": "e0852d1f",
   "metadata": {},
   "outputs": [],
   "source": [
    "result=cursor.execute(\"select * from student_info1\")"
   ]
  },
  {
   "cell_type": "code",
   "execution_count": 41,
   "id": "226095da",
   "metadata": {},
   "outputs": [
    {
     "name": "stdout",
     "output_type": "stream",
     "text": [
      "(1234567890, 'saurav.vicky16@gmail.com', 'Data Science', 25000)\n"
     ]
    }
   ],
   "source": [
    "for row in result:\n",
    "    print(row)"
   ]
  },
  {
   "cell_type": "code",
   "execution_count": 23,
   "id": "7943f39a",
   "metadata": {},
   "outputs": [],
   "source": [
    "#Multiple records insertion"
   ]
  },
  {
   "cell_type": "code",
   "execution_count": 43,
   "id": "3ceb7684",
   "metadata": {},
   "outputs": [
    {
     "data": {
      "text/plain": [
       "<sqlite3.Cursor at 0x20b0b0a2110>"
      ]
     },
     "execution_count": 43,
     "metadata": {},
     "output_type": "execute_result"
    }
   ],
   "source": [
    "cursor.execute(\"insert into student_info1 Values(8349089124,'shrivastavasaurav578@gmail.com','Data Science',25000),(7894561236,'s123@gmail.com','Data Science',40000)\")"
   ]
  },
  {
   "cell_type": "code",
   "execution_count": 45,
   "id": "e2b78061",
   "metadata": {},
   "outputs": [],
   "source": [
    "db.commit()"
   ]
  },
  {
   "cell_type": "code",
   "execution_count": 26,
   "id": "d43cb09b",
   "metadata": {},
   "outputs": [],
   "source": [
    "#Count Row in student_data"
   ]
  },
  {
   "cell_type": "code",
   "execution_count": 46,
   "id": "f0da6bfd",
   "metadata": {},
   "outputs": [
    {
     "name": "stdout",
     "output_type": "stream",
     "text": [
      "2 Record(s)inserted\n"
     ]
    }
   ],
   "source": [
    "print(cursor.rowcount,(\"Record(s)inserted\"))"
   ]
  },
  {
   "cell_type": "code",
   "execution_count": 28,
   "id": "b7530d05",
   "metadata": {},
   "outputs": [],
   "source": [
    "#Open csv files\n",
    "\n"
   ]
  },
  {
   "cell_type": "code",
   "execution_count": 48,
   "id": "28d68dd9",
   "metadata": {},
   "outputs": [
    {
     "name": "stdout",
     "output_type": "stream",
     "text": [
      "20 Records Inserted\n"
     ]
    }
   ],
   "source": [
    "with open ('DT_Students.csv','r') as file:\n",
    "    no_records=0\n",
    "    for row in file:\n",
    "        cursor.execute(\"insert into student_info1 values(?,?,?,?)\",row.split(\",\"))\n",
    "        db.commit()\n",
    "        no_records=no_records + 1\n",
    "print(no_records,\"Records Inserted\")        "
   ]
  },
  {
   "cell_type": "code",
   "execution_count": 49,
   "id": "060f656d",
   "metadata": {},
   "outputs": [],
   "source": [
    "result=cursor.execute(\"select * from student_info1\") "
   ]
  },
  {
   "cell_type": "code",
   "execution_count": 51,
   "id": "ed7bcc28",
   "metadata": {},
   "outputs": [
    {
     "name": "stdout",
     "output_type": "stream",
     "text": [
      "(1234567890, 'saurav.vicky16@gmail.com', 'Data Science', 25000)\n",
      "(8349089124, 'shrivastavasaurav578@gmail.com', 'Data Science', 25000)\n",
      "(7894561236, 's123@gmail.com', 'Data Science', 40000)\n",
      "(9988776604, 'student4@gmail.com', 'Digital Marketing', 38000)\n",
      "(9988776605, 'student5@gmail.com', 'Data Science', 133000)\n",
      "(9988776606, 'student6@gmail.com', 'Data Science', 34000)\n",
      "(9988776607, 'student7@gmail.com', 'Data Science', 33000)\n",
      "(9988776608, 'student8@gmail.com', 'Data Science', 129000)\n",
      "(9988776609, 'student9@gmail.com', 'Data Science', 40000)\n",
      "(9988776610, 'student10@gmail.com', 'Data Analytics', 32500)\n",
      "(9988776611, 'student11@gmail.com', 'Data Science', 41500)\n",
      "(9988776612, 'student12@gmail.com', 'Digital Marketing', 31000)\n",
      "(9988776613, 'student13@gmail.com', 'Digital Marketing', 23000)\n",
      "(9988776614, 'student14@gmail.com', 'Data Science', 24000)\n",
      "(9988776615, 'student15@gmail.com', 'Data Science', 23000)\n",
      "(9988776616, 'student16@gmail.com', 'Data Science', 122500)\n",
      "(9988776617, 'student17@gmail.com', 'Data Science', 29000)\n",
      "(9988776618, 'student18@gmail.com', 'Data Science', 140000)\n",
      "(9988776619, 'student19@gmail.com', 'Data Analytics', 32500)\n",
      "(9988776620, 'student20@gmail.com', 'Inv Banking', 41500)\n",
      "(9988776621, 'student21@gmail.com', 'Data Science', 131000)\n",
      "(9988776622, 'student22@gmail.com', 'Data Science', 23000)\n",
      "(9988776623, 'student23@gmail.com', 'Data Science', 24000)\n",
      "(9988776604, 'student4@gmail.com', 'Digital Marketing', 38000)\n",
      "(9988776605, 'student5@gmail.com', 'Data Science', 133000)\n",
      "(9988776606, 'student6@gmail.com', 'Data Science', 34000)\n",
      "(9988776607, 'student7@gmail.com', 'Data Science', 33000)\n",
      "(9988776608, 'student8@gmail.com', 'Data Science', 129000)\n",
      "(9988776609, 'student9@gmail.com', 'Data Science', 40000)\n",
      "(9988776610, 'student10@gmail.com', 'Data Analytics', 32500)\n",
      "(9988776611, 'student11@gmail.com', 'Data Science', 41500)\n",
      "(9988776612, 'student12@gmail.com', 'Digital Marketing', 31000)\n",
      "(9988776613, 'student13@gmail.com', 'Digital Marketing', 23000)\n",
      "(9988776614, 'student14@gmail.com', 'Data Science', 24000)\n",
      "(9988776615, 'student15@gmail.com', 'Data Science', 23000)\n",
      "(9988776616, 'student16@gmail.com', 'Data Science', 122500)\n",
      "(9988776617, 'student17@gmail.com', 'Data Science', 29000)\n",
      "(9988776618, 'student18@gmail.com', 'Data Science', 140000)\n",
      "(9988776619, 'student19@gmail.com', 'Data Analytics', 32500)\n",
      "(9988776620, 'student20@gmail.com', 'Inv Banking', 41500)\n",
      "(9988776621, 'student21@gmail.com', 'Data Science', 131000)\n",
      "(9988776622, 'student22@gmail.com', 'Data Science', 23000)\n",
      "(9988776623, 'student23@gmail.com', 'Data Science', 24000)\n"
     ]
    }
   ],
   "source": [
    "for row in result:\n",
    "    print(row)"
   ]
  },
  {
   "cell_type": "code",
   "execution_count": 52,
   "id": "9ff46909",
   "metadata": {},
   "outputs": [],
   "source": [
    "#Where clause -select reocrd based on condition"
   ]
  },
  {
   "cell_type": "code",
   "execution_count": 57,
   "id": "a7c94ca7",
   "metadata": {},
   "outputs": [],
   "source": [
    "sql=\"select * from student_info1 where course_name='Data Science'\""
   ]
  },
  {
   "cell_type": "code",
   "execution_count": 58,
   "id": "25983ba2",
   "metadata": {},
   "outputs": [],
   "source": [
    "result=cursor.execute(sql)\n"
   ]
  },
  {
   "cell_type": "code",
   "execution_count": 59,
   "id": "e78390ab",
   "metadata": {},
   "outputs": [
    {
     "name": "stdout",
     "output_type": "stream",
     "text": [
      "(1234567890, 'saurav.vicky16@gmail.com', 'Data Science', 25000)\n",
      "(8349089124, 'shrivastavasaurav578@gmail.com', 'Data Science', 25000)\n",
      "(7894561236, 's123@gmail.com', 'Data Science', 40000)\n",
      "(9988776605, 'student5@gmail.com', 'Data Science', 133000)\n",
      "(9988776606, 'student6@gmail.com', 'Data Science', 34000)\n",
      "(9988776607, 'student7@gmail.com', 'Data Science', 33000)\n",
      "(9988776608, 'student8@gmail.com', 'Data Science', 129000)\n",
      "(9988776609, 'student9@gmail.com', 'Data Science', 40000)\n",
      "(9988776611, 'student11@gmail.com', 'Data Science', 41500)\n",
      "(9988776614, 'student14@gmail.com', 'Data Science', 24000)\n",
      "(9988776615, 'student15@gmail.com', 'Data Science', 23000)\n",
      "(9988776616, 'student16@gmail.com', 'Data Science', 122500)\n",
      "(9988776617, 'student17@gmail.com', 'Data Science', 29000)\n",
      "(9988776618, 'student18@gmail.com', 'Data Science', 140000)\n",
      "(9988776621, 'student21@gmail.com', 'Data Science', 131000)\n",
      "(9988776622, 'student22@gmail.com', 'Data Science', 23000)\n",
      "(9988776623, 'student23@gmail.com', 'Data Science', 24000)\n",
      "(9988776605, 'student5@gmail.com', 'Data Science', 133000)\n",
      "(9988776606, 'student6@gmail.com', 'Data Science', 34000)\n",
      "(9988776607, 'student7@gmail.com', 'Data Science', 33000)\n",
      "(9988776608, 'student8@gmail.com', 'Data Science', 129000)\n",
      "(9988776609, 'student9@gmail.com', 'Data Science', 40000)\n",
      "(9988776611, 'student11@gmail.com', 'Data Science', 41500)\n",
      "(9988776614, 'student14@gmail.com', 'Data Science', 24000)\n",
      "(9988776615, 'student15@gmail.com', 'Data Science', 23000)\n",
      "(9988776616, 'student16@gmail.com', 'Data Science', 122500)\n",
      "(9988776617, 'student17@gmail.com', 'Data Science', 29000)\n",
      "(9988776618, 'student18@gmail.com', 'Data Science', 140000)\n",
      "(9988776621, 'student21@gmail.com', 'Data Science', 131000)\n",
      "(9988776622, 'student22@gmail.com', 'Data Science', 23000)\n",
      "(9988776623, 'student23@gmail.com', 'Data Science', 24000)\n"
     ]
    }
   ],
   "source": [
    "for row in result:\n",
    "    print(row)"
   ]
  },
  {
   "cell_type": "code",
   "execution_count": 61,
   "id": "127d8146",
   "metadata": {},
   "outputs": [],
   "source": [
    "#Delete Records-How to delete unwanted Records\n",
    "#usually developer and data scientist has to rights to delete anything from sql."
   ]
  },
  {
   "cell_type": "code",
   "execution_count": 64,
   "id": "decb44fc",
   "metadata": {},
   "outputs": [],
   "source": [
    "sql=\"delete from student_info1 where phone_num=8349089124\""
   ]
  },
  {
   "cell_type": "code",
   "execution_count": 66,
   "id": "1c9fa8b4",
   "metadata": {},
   "outputs": [],
   "source": [
    "cursor.execute(sql)\n",
    "db.commit()"
   ]
  },
  {
   "cell_type": "code",
   "execution_count": 67,
   "id": "a07aaecb",
   "metadata": {},
   "outputs": [
    {
     "name": "stdout",
     "output_type": "stream",
     "text": [
      "(1234567890, 'saurav.vicky16@gmail.com', 'Data Science', 25000)\n",
      "(7894561236, 's123@gmail.com', 'Data Science', 40000)\n",
      "(9988776604, 'student4@gmail.com', 'Digital Marketing', 38000)\n",
      "(9988776605, 'student5@gmail.com', 'Data Science', 133000)\n",
      "(9988776606, 'student6@gmail.com', 'Data Science', 34000)\n",
      "(9988776607, 'student7@gmail.com', 'Data Science', 33000)\n",
      "(9988776608, 'student8@gmail.com', 'Data Science', 129000)\n",
      "(9988776609, 'student9@gmail.com', 'Data Science', 40000)\n",
      "(9988776610, 'student10@gmail.com', 'Data Analytics', 32500)\n",
      "(9988776611, 'student11@gmail.com', 'Data Science', 41500)\n",
      "(9988776612, 'student12@gmail.com', 'Digital Marketing', 31000)\n",
      "(9988776613, 'student13@gmail.com', 'Digital Marketing', 23000)\n",
      "(9988776614, 'student14@gmail.com', 'Data Science', 24000)\n",
      "(9988776615, 'student15@gmail.com', 'Data Science', 23000)\n",
      "(9988776616, 'student16@gmail.com', 'Data Science', 122500)\n",
      "(9988776617, 'student17@gmail.com', 'Data Science', 29000)\n",
      "(9988776618, 'student18@gmail.com', 'Data Science', 140000)\n",
      "(9988776619, 'student19@gmail.com', 'Data Analytics', 32500)\n",
      "(9988776620, 'student20@gmail.com', 'Inv Banking', 41500)\n",
      "(9988776621, 'student21@gmail.com', 'Data Science', 131000)\n",
      "(9988776622, 'student22@gmail.com', 'Data Science', 23000)\n",
      "(9988776623, 'student23@gmail.com', 'Data Science', 24000)\n",
      "(9988776604, 'student4@gmail.com', 'Digital Marketing', 38000)\n",
      "(9988776605, 'student5@gmail.com', 'Data Science', 133000)\n",
      "(9988776606, 'student6@gmail.com', 'Data Science', 34000)\n",
      "(9988776607, 'student7@gmail.com', 'Data Science', 33000)\n",
      "(9988776608, 'student8@gmail.com', 'Data Science', 129000)\n",
      "(9988776609, 'student9@gmail.com', 'Data Science', 40000)\n",
      "(9988776610, 'student10@gmail.com', 'Data Analytics', 32500)\n",
      "(9988776611, 'student11@gmail.com', 'Data Science', 41500)\n",
      "(9988776612, 'student12@gmail.com', 'Digital Marketing', 31000)\n",
      "(9988776613, 'student13@gmail.com', 'Digital Marketing', 23000)\n",
      "(9988776614, 'student14@gmail.com', 'Data Science', 24000)\n",
      "(9988776615, 'student15@gmail.com', 'Data Science', 23000)\n",
      "(9988776616, 'student16@gmail.com', 'Data Science', 122500)\n",
      "(9988776617, 'student17@gmail.com', 'Data Science', 29000)\n",
      "(9988776618, 'student18@gmail.com', 'Data Science', 140000)\n",
      "(9988776619, 'student19@gmail.com', 'Data Analytics', 32500)\n",
      "(9988776620, 'student20@gmail.com', 'Inv Banking', 41500)\n",
      "(9988776621, 'student21@gmail.com', 'Data Science', 131000)\n",
      "(9988776622, 'student22@gmail.com', 'Data Science', 23000)\n",
      "(9988776623, 'student23@gmail.com', 'Data Science', 24000)\n"
     ]
    }
   ],
   "source": [
    "result=cursor.execute(\"Select * from student_info1\")\n",
    "for row in result:\n",
    "    print(row)"
   ]
  },
  {
   "cell_type": "code",
   "execution_count": null,
   "id": "b4ecf9e4",
   "metadata": {},
   "outputs": [],
   "source": [
    "#Student of Data Science\n",
    "#Student of Data Trained-Saurav\n",
    "#Date-04-07-2022\n",
    "#Time-10:57\n"
   ]
  }
 ],
 "metadata": {
  "kernelspec": {
   "display_name": "Python 3 (ipykernel)",
   "language": "python",
   "name": "python3"
  },
  "language_info": {
   "codemirror_mode": {
    "name": "ipython",
    "version": 3
   },
   "file_extension": ".py",
   "mimetype": "text/x-python",
   "name": "python",
   "nbconvert_exporter": "python",
   "pygments_lexer": "ipython3",
   "version": "3.9.12"
  }
 },
 "nbformat": 4,
 "nbformat_minor": 5
}
